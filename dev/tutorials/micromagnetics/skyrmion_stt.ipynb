{
 "cells": [
  {
   "cell_type": "markdown",
   "source": [
    "In this example, we will study the skyrmion dynamics in a 2d film. We will save the skyrmion\n",
    "positions to a text file and and generate a movie at the end of simulation."
   ],
   "metadata": {}
  },
  {
   "cell_type": "markdown",
   "source": [
    "We import the necessary modules"
   ],
   "metadata": {}
  },
  {
   "outputs": [],
   "cell_type": "code",
   "source": [
    "using MicroMagnetic\n",
    "using Printf\n",
    "\n",
    "@using_gpu()"
   ],
   "metadata": {},
   "execution_count": 1
  },
  {
   "cell_type": "markdown",
   "source": [
    "The studied system is a 800nm x 300nm x 2nm film with periodic boundary conditions."
   ],
   "metadata": {}
  },
  {
   "outputs": [],
   "cell_type": "code",
   "source": [
    "mesh =  FDMesh(nx=400, ny=150, nz=1, dx=2e-9, dy=2e-9, dz=2e-9, pbc=\"xy\");"
   ],
   "metadata": {},
   "execution_count": 2
  },
  {
   "cell_type": "markdown",
   "source": [
    "We create a Sim instance using `create_sim` function, and set basic simulation parameters such as\n",
    "'Ms', 'A', 'D' and 'H'."
   ],
   "metadata": {}
  },
  {
   "outputs": [
    {
     "name": "stdout",
     "output_type": "stream",
     "text": [
      "[ Info: MicroSim has been created.\n",
      "[ Info: Exchange has been added.\n",
      "[ Info: Bulk DMI has been added.\n",
      "[ Info: Static Zeeman has been added.\n"
     ]
    }
   ],
   "cell_type": "code",
   "source": [
    "sim = create_sim(mesh,  Ms=3.87e5, A=5.2e-12, D=1e-3, H=(0,0,160*mT), name=\"skx\");"
   ],
   "metadata": {},
   "execution_count": 3
  },
  {
   "cell_type": "markdown",
   "source": [
    "We set the initial magnetization configuration to a skyrmion at position (200nm, 80nm) with radius 20 nm.\n",
    "Note that the initialized magnetization is a roughly guessing for the skyrimon."
   ],
   "metadata": {}
  },
  {
   "outputs": [],
   "cell_type": "code",
   "source": [
    "init_m0_skyrmion(sim, (200e-9, 80e-9), 2e-8)"
   ],
   "metadata": {},
   "execution_count": 4
  },
  {
   "cell_type": "markdown",
   "source": [
    "We relax the system to obtain the skyrmion profile."
   ],
   "metadata": {}
  },
  {
   "outputs": [
    {
     "name": "stdout",
     "output_type": "stream",
     "text": [
      "[ Info: Running Driver : MicroMagnetic.EnergyMinimization{Float64}.\n",
      "[ Info: step =    0  step_size=9.049774e-16  max_dmdt=6.927667e+04\n",
      "[ Info: step =    1  step_size=1.456321e-12  max_dmdt=5.196624e+04\n",
      "[ Info: step =    2  step_size=4.298469e-13  max_dmdt=1.205125e+05\n",
      "[ Info: step =    3  step_size=3.487176e-13  max_dmdt=5.211864e+04\n",
      "[ Info: step =    4  step_size=2.402421e-13  max_dmdt=2.790084e+04\n",
      "[ Info: step =    5  step_size=4.972522e-13  max_dmdt=1.253867e+04\n",
      "[ Info: step =    6  step_size=6.851382e-13  max_dmdt=8.863601e+03\n",
      "[ Info: step =    7  step_size=9.836863e-12  max_dmdt=7.017714e+03\n",
      "[ Info: step =    8  step_size=2.616372e-13  max_dmdt=1.310473e+05\n",
      "[ Info: step =    9  step_size=2.534689e-13  max_dmdt=5.802275e+04\n",
      "[ Info: step =   10  step_size=2.256564e-13  max_dmdt=1.239998e+04\n",
      "[ Info: step =   11  step_size=3.401806e-12  max_dmdt=9.467888e+03\n",
      "[ Info: step =   12  step_size=1.750509e-12  max_dmdt=1.136784e+04\n",
      "[ Info: step =   13  step_size=3.541412e-12  max_dmdt=2.063349e+04\n",
      "[ Info: step =   14  step_size=2.515431e-13  max_dmdt=1.315571e+05\n",
      "[ Info: step =   15  step_size=2.655910e-13  max_dmdt=1.228545e+05\n",
      "[ Info: step =   16  step_size=2.462932e-13  max_dmdt=4.202610e+04\n",
      "[ Info: step =   17  step_size=7.587758e-13  max_dmdt=1.156211e+04\n",
      "[ Info: step =   18  step_size=4.812622e-13  max_dmdt=1.244558e+04\n",
      "[ Info: step =   19  step_size=4.264462e-12  max_dmdt=6.389343e+03\n",
      "[ Info: step =   20  step_size=2.289872e-13  max_dmdt=8.527274e+04\n",
      "[ Info: step =   21  step_size=2.359988e-13  max_dmdt=1.793571e+04\n",
      "[ Info: step =   22  step_size=2.653474e-13  max_dmdt=4.865139e+03\n",
      "[ Info: step =   23  step_size=3.093893e-11  max_dmdt=1.523644e+03\n",
      "[ Info: step =   24  step_size=1.917477e-12  max_dmdt=4.534486e+04\n",
      "[ Info: step =   25  step_size=5.240343e-13  max_dmdt=1.149547e+05\n",
      "[ Info: step =   26  step_size=2.508293e-13  max_dmdt=7.914962e+04\n",
      "[ Info: step =   27  step_size=2.222884e-13  max_dmdt=1.944997e+04\n",
      "[ Info: step =   28  step_size=2.217939e-13  max_dmdt=8.980118e+03\n",
      "[ Info: step =   29  step_size=2.857762e-12  max_dmdt=4.975403e+03\n",
      "[ Info: step =   30  step_size=7.349098e-13  max_dmdt=1.988334e+04\n",
      "[ Info: step =   31  step_size=9.593264e-13  max_dmdt=1.218857e+04\n",
      "[ Info: step =   32  step_size=3.503409e-13  max_dmdt=2.250145e+04\n",
      "[ Info: step =   33  step_size=4.871527e-13  max_dmdt=3.429003e+03\n",
      "[ Info: step =   34  step_size=2.192183e-13  max_dmdt=3.052645e+03\n",
      "[ Info: step =   35  step_size=1.081456e-12  max_dmdt=6.605010e+02\n",
      "[ Info: step =   36  step_size=1.223703e-12  max_dmdt=8.600315e+02\n",
      "[ Info: step =   37  step_size=2.122163e-11  max_dmdt=2.620567e+03\n",
      "[ Info: step =   38  step_size=2.443925e-13  max_dmdt=1.318788e+05\n",
      "[ Info: step =   39  step_size=2.551639e-13  max_dmdt=8.062496e+04\n",
      "[ Info: step =   40  step_size=2.308850e-13  max_dmdt=1.415081e+04\n",
      "[ Info: step =   41  step_size=3.671461e-13  max_dmdt=3.864194e+03\n",
      "[ Info: step =   42  step_size=3.210134e-13  max_dmdt=1.031946e+03\n",
      "[ Info: step =   43  step_size=2.327885e-11  max_dmdt=6.167490e+02\n",
      "[ Info: step =   44  step_size=6.053956e-13  max_dmdt=3.485896e+04\n",
      "[ Info: step =   45  step_size=2.224581e-13  max_dmdt=5.652234e+04\n",
      "[ Info: step =   46  step_size=2.133368e-13  max_dmdt=2.484650e+03\n",
      "[ Info: step =   47  step_size=1.192895e-12  max_dmdt=1.424852e+03\n",
      "[ Info: step =   48  step_size=1.265341e-12  max_dmdt=9.828247e+02\n",
      "[ Info: step =   49  step_size=2.422201e-11  max_dmdt=2.401862e+03\n",
      "[ Info: step =   50  step_size=3.012960e-13  max_dmdt=1.274640e+05\n",
      "[ Info: step =   51  step_size=2.880273e-13  max_dmdt=6.798065e+04\n",
      "[ Info: step =   52  step_size=2.314189e-13  max_dmdt=9.721729e+03\n",
      "[ Info: step =   53  step_size=2.643633e-13  max_dmdt=5.098878e+03\n",
      "[ Info: step =   54  step_size=3.526718e-13  max_dmdt=2.237698e+03\n",
      "[ Info: step =   55  step_size=5.993949e-12  max_dmdt=7.213258e+02\n",
      "[ Info: step =   56  step_size=6.392037e-13  max_dmdt=5.728572e+03\n",
      "[ Info: step =   57  step_size=3.798885e-13  max_dmdt=4.358466e+03\n",
      "[ Info: step =   58  step_size=2.113211e-13  max_dmdt=3.384181e+03\n",
      "[ Info: step =   59  step_size=2.576669e-13  max_dmdt=3.264895e+02\n",
      "[ Info: step =   60  step_size=1.940112e-12  max_dmdt=2.597939e+02\n",
      "[ Info: step =   61  step_size=5.923952e-11  max_dmdt=3.018914e+02\n",
      "[ Info: step =   62  step_size=1.089455e-12  max_dmdt=3.457423e+04\n",
      "[ Info: step =   63  step_size=2.882941e-13  max_dmdt=8.468708e+04\n",
      "[ Info: step =   64  step_size=2.153088e-13  max_dmdt=2.749393e+04\n",
      "[ Info: step =   65  step_size=2.179993e-13  max_dmdt=6.138796e+03\n",
      "[ Info: step =   66  step_size=4.577795e-13  max_dmdt=2.999398e+03\n",
      "[ Info: step =   67  step_size=5.985362e-13  max_dmdt=6.669592e+02\n",
      "[ Info: step =   68  step_size=8.143687e-13  max_dmdt=2.777019e+02\n",
      "[ Info: step =   69  step_size=5.631257e-12  max_dmdt=2.277345e+02\n",
      "[ Info: step =   70  step_size=2.667929e-13  max_dmdt=2.723339e+03\n",
      "[ Info: step =   71  step_size=2.159622e-13  max_dmdt=8.241894e+02\n",
      "[ Info: step =   72  step_size=2.115213e-13  max_dmdt=1.657630e+02\n",
      "[ Info: step =   73  step_size=1.004825e-11  max_dmdt=1.308343e+02\n",
      "[ Info: step =   74  step_size=1.497524e-12  max_dmdt=1.187817e+03\n",
      "[ Info: step =   75  step_size=6.550015e-13  max_dmdt=3.809008e+03\n",
      "[ Info: step =   76  step_size=3.983481e-13  max_dmdt=3.510254e+03\n",
      "[ Info: step =   77  step_size=4.005231e-13  max_dmdt=5.257008e+02\n",
      "[ Info: step =   78  step_size=2.714761e-13  max_dmdt=2.388844e+02\n",
      "[ Info: step =   79  step_size=1.907038e-12  max_dmdt=8.522448e+01\n",
      "[ Info: step =   80  step_size=3.827777e-13  max_dmdt=2.300839e+02\n",
      "[ Info: step =   81  step_size=6.608965e-13  max_dmdt=1.690252e+02\n",
      "[ Info: step =   82  step_size=2.133689e-13  max_dmdt=3.094167e+02\n",
      "[ Info: step =   83  step_size=3.592328e-13  max_dmdt=6.167920e+01\n",
      "[ Info: step =   84  step_size=1.022479e-12  max_dmdt=5.343186e+01\n",
      "[ Info: step =   85  step_size=6.319353e-11  max_dmdt=6.795704e+01\n",
      "[ Info: step =   86  step_size=3.692283e-13  max_dmdt=9.905267e+03\n",
      "[ Info: step =   87  step_size=2.174189e-13  max_dmdt=5.719487e+03\n",
      "[ Info: step =   88  step_size=2.138484e-13  max_dmdt=3.272543e+02\n",
      "[ Info: step =   89  step_size=4.016126e-13  max_dmdt=1.001901e+02\n",
      "[ Info: step =   90  step_size=1.308864e-12  max_dmdt=8.984313e+01\n",
      "[ Info: step =   91  step_size=3.850218e-12  max_dmdt=1.330748e+02\n",
      "[ Info: step =   92  step_size=2.898101e-13  max_dmdt=1.870315e+03\n",
      "[ Info: step =   93  step_size=2.390906e-13  max_dmdt=3.690364e+02\n",
      "[ Info: step =   94  step_size=2.309190e-13  max_dmdt=3.640779e+01\n",
      "[ Info: step =   95  step_size=5.859067e-12  max_dmdt=3.231595e+01\n",
      "[ Info: step =   96  step_size=2.037841e-12  max_dmdt=4.531445e+01\n",
      "[ Info: step =   97  step_size=1.034096e-12  max_dmdt=1.900316e+02\n",
      "[ Info: step =   98  step_size=2.103615e-13  max_dmdt=7.032541e+02\n",
      "[ Info: step =   99  step_size=2.108101e-13  max_dmdt=3.534751e+01\n",
      "[ Info: step =  100  step_size=2.925401e-13  max_dmdt=2.950901e+01\n",
      "[ Info: step =  101  step_size=3.276544e-11  max_dmdt=2.781338e+01\n",
      "[ Info: step =  102  step_size=2.109630e-12  max_dmdt=2.181114e+02\n",
      "[ Info: step =  103  step_size=5.298398e-13  max_dmdt=8.941675e+02\n",
      "[ Info: step =  104  step_size=3.281977e-13  max_dmdt=7.926025e+02\n",
      "[ Info: step =  105  step_size=2.548201e-13  max_dmdt=2.043221e+02\n",
      "[ Info: step =  106  step_size=2.467843e-13  max_dmdt=2.455405e+01\n",
      "[ Info: step =  107  step_size=1.389859e-11  max_dmdt=2.292419e+01\n",
      "[ Info: step =  108  step_size=1.306846e-12  max_dmdt=5.629154e+01\n",
      "[ Info: step =  109  step_size=7.188974e-13  max_dmdt=1.421780e+02\n",
      "[ Info: step =  110  step_size=2.508419e-13  max_dmdt=2.443470e+02\n",
      "[ Info: step =  111  step_size=2.294613e-13  max_dmdt=5.371442e+01\n",
      "[ Info: step =  112  step_size=2.275655e-13  max_dmdt=2.439651e+01\n",
      "[ Info: step =  113  step_size=8.035822e-12  max_dmdt=2.140935e+01\n",
      "[ Info: step =  114  step_size=6.424141e-13  max_dmdt=7.315757e+01\n",
      "[ Info: step =  115  step_size=6.141944e-13  max_dmdt=4.280103e+01\n",
      "[ Info: step =  116  step_size=2.832128e-13  max_dmdt=3.661708e+01\n",
      "[ Info: step =  117  step_size=4.893302e-13  max_dmdt=2.535937e+01\n",
      "[ Info: step =  118  step_size=2.170512e-13  max_dmdt=2.579514e+01\n",
      "[ Info: step =  119  step_size=1.505688e-12  max_dmdt=1.964069e+01\n",
      "[ Info: step =  120  step_size=1.771594e-12  max_dmdt=2.021668e+01\n",
      "[ Info: step =  121  step_size=2.417570e-11  max_dmdt=2.996937e+01\n",
      "[ Info: step =  122  step_size=2.109723e-13  max_dmdt=1.585088e+03\n",
      "[ Info: step =  123  step_size=2.102113e-13  max_dmdt=8.968216e+01\n",
      "[ Info: step =  124  step_size=3.046678e-13  max_dmdt=3.036401e+01\n",
      "[ Info: step =  125  step_size=1.191979e-12  max_dmdt=1.662133e+01\n",
      "[ Info: step =  126  step_size=7.147150e-13  max_dmdt=1.697515e+01\n",
      "[ Info: step =  127  step_size=1.961142e-11  max_dmdt=1.662182e+01\n",
      "[ Info: step =  128  step_size=4.268030e-13  max_dmdt=2.482975e+02\n",
      "[ Info: step =  129  step_size=3.494002e-13  max_dmdt=1.012746e+02\n",
      "[ Info: step =  130  step_size=2.583347e-13  max_dmdt=3.598466e+01\n",
      "[ Info: step =  131  step_size=5.323930e-13  max_dmdt=1.740489e+01\n",
      "[ Info: step =  132  step_size=2.889160e-13  max_dmdt=1.800072e+01\n",
      "[ Info: step =  133  step_size=6.927590e-12  max_dmdt=1.575186e+01\n",
      "[ Info: step =  134  step_size=4.417510e-13  max_dmdt=5.658159e+01\n",
      "[ Info: step =  135  step_size=2.956539e-13  max_dmdt=5.599869e+01\n",
      "[ Info: step =  136  step_size=2.172838e-13  max_dmdt=2.720974e+01\n",
      "[ Info: step =  137  step_size=7.472113e-13  max_dmdt=1.449668e+01\n",
      "[ Info: step =  138  step_size=1.258098e-12  max_dmdt=1.492121e+01\n",
      "[ Info: step =  139  step_size=4.408233e-11  max_dmdt=1.843806e+01\n",
      "[ Info: step =  140  step_size=2.186404e-13  max_dmdt=1.009664e+03\n",
      "[ Info: step =  141  step_size=2.136757e-13  max_dmdt=5.007031e+01\n",
      "[ Info: step =  142  step_size=2.167706e-13  max_dmdt=1.839683e+01\n",
      "[ Info: step =  143  step_size=4.751389e-12  max_dmdt=1.754787e+01\n",
      "[ Info: step =  144  step_size=3.034930e-12  max_dmdt=1.294599e+01\n",
      "[ Info: step =  145  step_size=4.060701e-12  max_dmdt=3.402324e+01\n",
      "[ Info: step =  146  step_size=2.432765e-13  max_dmdt=4.442749e+02\n",
      "[ Info: step =  147  step_size=2.411873e-13  max_dmdt=5.986235e+01\n",
      "[ Info: step =  148  step_size=2.774807e-13  max_dmdt=1.733325e+01\n",
      "[ Info: step =  149  step_size=8.249804e-13  max_dmdt=1.095313e+01\n",
      "[ Info: step =  150  step_size=3.621030e-13  max_dmdt=1.169238e+01\n",
      "[ Info: step =  151  step_size=3.675876e-12  max_dmdt=1.094083e+01\n",
      "[ Info: step =  152  step_size=2.233283e-13  max_dmdt=3.280282e+01\n",
      "[ Info: step =  153  step_size=2.479462e-13  max_dmdt=1.096998e+01\n",
      "[ Info: step =  154  step_size=2.336265e-13  max_dmdt=1.011637e+01\n",
      "[ Info: step =  155  step_size=8.807869e-11  max_dmdt=9.809809e+00\n",
      "[ Info: step =  156  step_size=4.083560e-12  max_dmdt=5.379961e+01\n",
      "[ Info: step =  157  step_size=4.024286e-13  max_dmdt=5.950503e+02\n",
      "[ Info: step =  158  step_size=2.505542e-13  max_dmdt=2.434086e+02\n",
      "[ Info: step =  159  step_size=2.146534e-13  max_dmdt=6.556925e+01\n",
      "[ Info: step =  160  step_size=2.203972e-13  max_dmdt=1.664463e+01\n",
      "[ Info: step =  161  step_size=6.537448e-13  max_dmdt=1.173683e+01\n",
      "[ Info: step =  162  step_size=5.593062e-13  max_dmdt=6.660404e+00\n",
      "[ Info: step =  163  step_size=3.494702e-12  max_dmdt=5.665988e+00\n",
      "[ Info: step =  164  step_size=3.975999e-13  max_dmdt=1.588270e+01\n",
      "[ Info: step =  165  step_size=5.366343e-13  max_dmdt=8.671259e+00\n",
      "[ Info: step =  166  step_size=2.251837e-13  max_dmdt=8.381728e+00\n",
      "[ Info: step =  167  step_size=6.026491e-13  max_dmdt=5.628535e+00\n",
      "[ Info: step =  168  step_size=3.133647e-13  max_dmdt=5.715602e+00\n",
      "[ Info: step =  169  step_size=1.771150e-11  max_dmdt=5.519403e+00\n",
      "[ Info: step =  170  step_size=3.023282e-13  max_dmdt=2.277879e+01\n",
      "[ Info: step =  171  step_size=2.208132e-13  max_dmdt=1.236774e+01\n",
      "[ Info: step =  172  step_size=2.101346e-13  max_dmdt=5.258727e+00\n",
      "[ Info: step =  173  step_size=1.530759e-11  max_dmdt=4.957576e+00\n",
      "[ Info: step =  174  step_size=1.565718e-12  max_dmdt=8.646655e+00\n",
      "[ Info: step =  175  step_size=1.414993e-12  max_dmdt=7.523305e+00\n",
      "[ Info: step =  176  step_size=8.294017e-13  max_dmdt=7.219001e+00\n",
      "[ Info: step =  177  step_size=1.276351e-12  max_dmdt=8.038398e+00\n",
      "[ Info: step =  178  step_size=2.190330e-13  max_dmdt=2.423756e+01\n",
      "[ Info: step =  179  step_size=2.218556e-13  max_dmdt=5.489462e+00\n",
      "[ Info: step =  180  step_size=2.860751e-13  max_dmdt=4.747109e+00\n",
      "[ Info: step =  181  step_size=1.445902e-11  max_dmdt=4.515961e+00\n",
      "[ Info: step =  182  step_size=1.040721e-12  max_dmdt=8.095056e+00\n",
      "[ Info: step =  183  step_size=5.988319e-13  max_dmdt=1.295154e+01\n",
      "[ Info: step =  184  step_size=2.764543e-13  max_dmdt=1.325144e+01\n",
      "[ Info: step =  185  step_size=2.594844e-13  max_dmdt=6.558804e+00\n",
      "[ Info: step =  186  step_size=2.158475e-13  max_dmdt=4.751964e+00\n",
      "[ Info: step =  187  step_size=5.495876e-12  max_dmdt=4.184193e+00\n",
      "[ Info: step =  188  step_size=9.498675e-13  max_dmdt=5.351144e+00\n",
      "[ Info: step =  189  step_size=1.949173e-12  max_dmdt=6.216792e+00\n",
      "[ Info: step =  190  step_size=2.677914e-13  max_dmdt=2.172589e+01\n",
      "[ Info: step =  191  step_size=2.529676e-13  max_dmdt=8.229088e+00\n",
      "[ Info: step =  192  step_size=2.293791e-13  max_dmdt=5.139917e+00\n",
      "[ Info: step =  193  step_size=2.620989e-12  max_dmdt=4.172419e+00\n",
      "[ Info: step =  194  step_size=4.618999e-13  max_dmdt=5.789706e+00\n",
      "[ Info: step =  195  step_size=1.197332e-12  max_dmdt=4.692258e+00\n",
      "[ Info: step =  196  step_size=2.186683e-13  max_dmdt=8.078279e+00\n",
      "[ Info: step =  197  step_size=3.134028e-13  max_dmdt=4.156874e+00\n",
      "[ Info: step =  198  step_size=3.063709e-13  max_dmdt=3.955130e+00\n",
      "[ Info: step =  199  step_size=1.100082e-10  max_dmdt=3.934772e+00\n",
      "[ Info: step =  200  step_size=1.307739e-12  max_dmdt=2.594627e+01\n",
      "[ Info: step =  201  step_size=2.115728e-13  max_dmdt=1.301176e+02\n",
      "[ Info: step =  202  step_size=2.099554e-13  max_dmdt=4.168977e+00\n",
      "[ Info: step =  203  step_size=5.385959e-13  max_dmdt=2.611824e+00\n",
      "[ Info: step =  204  step_size=4.058554e-13  max_dmdt=2.146111e+00\n",
      "[ Info: step =  205  step_size=1.007141e-11  max_dmdt=2.061750e+00\n",
      "[ Info: step =  206  step_size=1.320144e-12  max_dmdt=2.700586e+00\n",
      "[ Info: step =  207  step_size=1.216104e-12  max_dmdt=4.768790e+00\n",
      "[ Info: step =  208  step_size=3.471791e-13  max_dmdt=1.216761e+01\n",
      "[ Info: step =  209  step_size=3.621055e-13  max_dmdt=2.413382e+00\n",
      "[ Info: step =  210  step_size=2.573845e-13  max_dmdt=2.153120e+00\n",
      "[ Info: step =  211  step_size=9.658537e-12  max_dmdt=1.994633e+00\n",
      "[ Info: step =  212  step_size=3.673645e-13  max_dmdt=4.012770e+00\n",
      "[ Info: step =  213  step_size=3.004874e-13  max_dmdt=3.400522e+00\n",
      "[ Info: step =  214  step_size=2.101322e-13  max_dmdt=2.504968e+00\n",
      "[ Info: step =  215  step_size=1.051877e-12  max_dmdt=1.871753e+00\n",
      "[ Info: step =  216  step_size=7.700523e-12  max_dmdt=1.866088e+00\n",
      "[ Info: step =  217  step_size=2.414343e-10  max_dmdt=1.954112e+00\n",
      "[ Info: step =  218  step_size=3.222109e-13  max_dmdt=3.286301e+02\n",
      "[ Info: step =  219  step_size=2.697572e-13  max_dmdt=1.506782e+02\n",
      "[ Info: step =  220  step_size=2.250773e-13  max_dmdt=4.404987e+01\n",
      "[ Info: step =  221  step_size=2.730950e-13  max_dmdt=8.900862e+00\n",
      "[ Info: step =  222  step_size=4.545302e-13  max_dmdt=4.008925e+00\n",
      "[ Info: step =  223  step_size=4.824572e-13  max_dmdt=1.153354e+00\n",
      "[ Info: step =  224  step_size=2.261820e-13  max_dmdt=1.180056e+00\n",
      "[ Info: step =  225  step_size=3.005701e-13  max_dmdt=6.240774e-01\n",
      "[ Info: step =  226  step_size=2.346020e-13  max_dmdt=6.061654e-01\n",
      "[ Info: step =  227  step_size=5.391839e-11  max_dmdt=5.894641e-01\n",
      "[ Info: step =  228  step_size=3.464850e-12  max_dmdt=1.649741e+00\n",
      "[ Info: step =  229  step_size=4.434934e-13  max_dmdt=1.185602e+01\n",
      "[ Info: step =  230  step_size=2.108398e-13  max_dmdt=1.255526e+01\n",
      "[ Info: step =  231  step_size=2.106728e-13  max_dmdt=8.325912e-01\n",
      "[ Info: step =  232  step_size=7.392040e-13  max_dmdt=7.220311e-01\n",
      "[ Info: step =  233  step_size=1.729275e-12  max_dmdt=5.133263e-01\n",
      "[ Info: step =  234  step_size=1.335666e-12  max_dmdt=5.542057e-01\n",
      "[ Info: step =  235  step_size=1.929044e-11  max_dmdt=5.388565e-01\n",
      "[ Info: step =  236  step_size=2.732526e-13  max_dmdt=8.869165e+00\n",
      "[ Info: step =  237  step_size=2.386392e-13  max_dmdt=2.571309e+00\n",
      "[ Info: step =  238  step_size=2.419452e-13  max_dmdt=1.175717e+00\n",
      "[ Info: step =  239  step_size=6.722908e-13  max_dmdt=7.973890e-01\n",
      "[ Info: step =  240  step_size=5.643526e-13  max_dmdt=5.242100e-01\n",
      "[ Info: step =  241  step_size=4.449527e-12  max_dmdt=4.810689e-01\n",
      "[ Info: step =  242  step_size=2.285478e-13  max_dmdt=1.860664e+00\n",
      "[ Info: step =  243  step_size=2.269163e-13  max_dmdt=5.368522e-01\n",
      "[ Info: step =  244  step_size=2.414013e-13  max_dmdt=4.585200e-01\n",
      "[ Info: step =  245  step_size=2.495114e-11  max_dmdt=4.316626e-01\n",
      "[ Info: step =  246  step_size=9.394224e-13  max_dmdt=2.427370e+00\n",
      "[ Info: step =  247  step_size=6.701509e-13  max_dmdt=3.415115e+00\n",
      "[ Info: step =  248  step_size=3.081811e-13  max_dmdt=2.444670e+00\n",
      "[ Info: step =  249  step_size=2.547209e-13  max_dmdt=7.875018e-01\n",
      "[ Info: step =  250  step_size=2.142888e-13  max_dmdt=4.711902e-01\n",
      "[ Info: step =  251  step_size=2.440719e-12  max_dmdt=4.093216e-01\n",
      "[ Info: step =  252  step_size=9.613808e-13  max_dmdt=5.418881e-01\n",
      "[ Info: step =  253  step_size=4.303910e-12  max_dmdt=5.003871e-01\n",
      "[ Info: step =  254  step_size=2.990632e-13  max_dmdt=3.891594e+00\n",
      "[ Info: step =  255  step_size=2.684547e-13  max_dmdt=1.581539e+00\n",
      "[ Info: step =  256  step_size=2.240132e-13  max_dmdt=5.692902e-01\n",
      "[ Info: step =  257  step_size=8.734873e-13  max_dmdt=4.270967e-01\n",
      "[ Info: step =  258  step_size=4.558878e-13  max_dmdt=4.232839e-01\n",
      "[ Info: step =  259  step_size=7.835886e-12  max_dmdt=3.844354e-01\n",
      "[ Info: step =  260  step_size=2.201963e-13  max_dmdt=1.570054e+00\n",
      "[ Info: step =  261  step_size=2.195721e-13  max_dmdt=4.039403e-01\n",
      "[ Info: step =  262  step_size=2.419957e-13  max_dmdt=3.643336e-01\n",
      "[ Info: step =  263  step_size=4.179560e-11  max_dmdt=3.530049e-01\n",
      "[ Info: step =  264  step_size=8.252952e-13  max_dmdt=2.624130e+00\n",
      "[ Info: step =  265  step_size=4.503987e-13  max_dmdt=2.922298e+00\n",
      "[ Info: step =  266  step_size=3.586339e-13  max_dmdt=7.200527e-01\n",
      "[ Info: step =  267  step_size=3.407750e-13  max_dmdt=4.461646e-01\n",
      "[ Info: step =  268  step_size=2.103934e-13  max_dmdt=3.851112e-01\n",
      "[ Info: step =  269  step_size=8.386046e-13  max_dmdt=2.960772e-01\n",
      "[ Info: step =  270  step_size=5.482515e-12  max_dmdt=2.979671e-01\n",
      "[ Info: step =  271  step_size=2.844586e-10  max_dmdt=3.129570e-01\n",
      "[ Info: step =  272  step_size=2.495910e-13  max_dmdt=5.429904e+01\n",
      "[ Info: step =  273  step_size=2.227633e-13  max_dmdt=1.173154e+01\n",
      "[ Info: step =  274  step_size=2.426728e-13  max_dmdt=6.914740e+00\n",
      "[ Info: step =  275  step_size=4.905073e-13  max_dmdt=2.967055e+00\n",
      "[ Info: step =  276  step_size=4.998069e-13  max_dmdt=4.715591e-01\n",
      "[ Info: step =  277  step_size=1.256641e-12  max_dmdt=4.064077e-01\n",
      "[ Info: step =  278  step_size=2.937141e-13  max_dmdt=7.014502e-01\n",
      "[ Info: step =  279  step_size=2.220985e-13  max_dmdt=3.617078e-01\n",
      "[ Info: step =  280  step_size=2.135519e-13  max_dmdt=1.608168e-01\n",
      "[ Info: step =  281  step_size=3.006521e-12  max_dmdt=1.463975e-01\n",
      "[ Info: step =  282  step_size=2.336999e-12  max_dmdt=1.071562e-01\n",
      "[ Info: step =  283  step_size=4.992851e-12  max_dmdt=3.524281e-01\n",
      "[ Info: step =  284  step_size=3.321053e-13  max_dmdt=4.534935e+00\n",
      "[ Info: step =  285  step_size=3.052944e-13  max_dmdt=5.670713e-01\n",
      "[ Info: step =  286  step_size=2.157813e-13  max_dmdt=2.542655e-01\n",
      "[ Info: step =  287  step_size=2.375894e-13  max_dmdt=8.534996e-02\n",
      "[ Info: step =  288  step_size=3.377448e-13  max_dmdt=8.110701e-02\n",
      "[ Info: step =  289  step_size=4.726870e-11  max_dmdt=8.021912e-02\n",
      "[ Info: step =  290  step_size=2.681541e-12  max_dmdt=3.077645e-01\n",
      "[ Info: step =  291  step_size=3.374418e-13  max_dmdt=1.780288e+00\n",
      "[ Info: step =  292  step_size=2.195175e-13  max_dmdt=7.761851e-01\n",
      "[ Info: step =  293  step_size=2.128980e-13  max_dmdt=1.443417e-01\n",
      "[ Info: step =  294  step_size=2.815298e-13  max_dmdt=8.393289e-02\n",
      "[ Info: step =  295  step_size=2.748660e-12  max_dmdt=7.221305e-02\n",
      "[ Info: step =  296  step_size=5.862440e-13  max_dmdt=1.260258e-01\n",
      "[ Info: step =  297  step_size=1.129760e-12  max_dmdt=6.849739e-02\n",
      "[ Info: step =  298  step_size=3.821253e-13  max_dmdt=7.832204e-02\n",
      "[ Info: step =  299  step_size=1.497423e-12  max_dmdt=7.026751e-02\n",
      "[ Info: step =  300  step_size=2.148348e-13  max_dmdt=1.207572e-01\n",
      "[ Info: step =  301  step_size=3.098254e-13  max_dmdt=6.211864e-02\n",
      "[ Info: step =  302  step_size=3.952048e-13  max_dmdt=6.120842e-02\n",
      "[ Info: step =  303  step_size=1.655808e-10  max_dmdt=6.126694e-02\n",
      "[ Info: step =  304  step_size=1.103600e-12  max_dmdt=6.538831e-01\n",
      "[ Info: step =  305  step_size=2.119625e-13  max_dmdt=2.550464e+00\n",
      "[ Info: step =  306  step_size=2.099255e-13  max_dmdt=9.076230e-02\n",
      "[ Info: step =  307  step_size=5.893660e-13  max_dmdt=5.897683e-02\n",
      "[ Info: step =  308  step_size=5.631386e-13  max_dmdt=4.996427e-02\n",
      "[ Info: step =  309  step_size=1.249547e-11  max_dmdt=4.732087e-02\n",
      "[ Info: step =  310  step_size=7.934370e-12  max_dmdt=4.953280e-02\n",
      "[ Info: step =  311  step_size=1.108118e-12  max_dmdt=7.467270e-01\n",
      "[ Info: step =  312  step_size=4.252265e-13  max_dmdt=1.150301e+00\n",
      "[ Info: step =  313  step_size=4.080163e-13  max_dmdt=1.273871e-01\n",
      "[ Info: step =  314  step_size=2.130586e-13  max_dmdt=1.119940e-01\n",
      "[ Info: step =  315  step_size=2.202666e-13  max_dmdt=2.674268e-02\n",
      "[ Info: step =  316  step_size=5.637793e-13  max_dmdt=2.526581e-02\n",
      "[ Info: step =  317  step_size=1.631998e-11  max_dmdt=2.323877e-02\n",
      "[ Info: step =  318  step_size=1.950594e-12  max_dmdt=6.219989e-02\n",
      "[ Info: step =  319  step_size=1.357317e-12  max_dmdt=9.521709e-02\n",
      "[ Info: step =  320  step_size=2.143952e-13  max_dmdt=4.329363e-01\n",
      "[ Info: step =  321  step_size=2.113862e-13  max_dmdt=4.102455e-02\n",
      "[ Info: step =  322  step_size=3.147895e-13  max_dmdt=2.675096e-02\n",
      "[ Info: step =  323  step_size=2.102363e-12  max_dmdt=2.093165e-02\n",
      "[ Info: step =  324  step_size=6.242965e-13  max_dmdt=2.488728e-02\n",
      "[ Info: step =  325  step_size=1.856848e-12  max_dmdt=2.017292e-02\n",
      "[ Info: step =  326  step_size=3.131690e-13  max_dmdt=3.583800e-02\n",
      "[ Info: step =  327  step_size=5.053086e-13  max_dmdt=2.129483e-02\n",
      "[ Info: step =  328  step_size=2.598534e-13  max_dmdt=2.134150e-02\n",
      "[ Info: step =  329  step_size=3.107341e-12  max_dmdt=1.927475e-02\n",
      "[ Info: step =  330  step_size=2.905736e-13  max_dmdt=2.665562e-02\n",
      "[ Info: step =  331  step_size=8.525620e-13  max_dmdt=2.150747e-02\n",
      "[ Info: step =  332  step_size=2.136061e-13  max_dmdt=2.748799e-02\n",
      "[ Info: step =  333  step_size=6.865059e-13  max_dmdt=1.861649e-02\n",
      "[ Info: step =  334  step_size=8.997056e-13  max_dmdt=1.887452e-02\n",
      "[ Info: step =  335  step_size=1.450181e-10  max_dmdt=1.960052e-02\n",
      "[ Info: step =  336  step_size=2.282603e-13  max_dmdt=1.180823e+00\n",
      "[ Info: step =  337  step_size=2.128844e-13  max_dmdt=1.041965e-01\n",
      "[ Info: step =  338  step_size=2.143728e-13  max_dmdt=2.060242e-02\n",
      "[ Info: step =  339  step_size=7.075129e-13  max_dmdt=1.155380e-02\n",
      "[ Info: step =  340  step_size=3.795493e-13  max_dmdt=1.120979e-02\n",
      "[ Info: step =  341  step_size=3.110504e-12  max_dmdt=9.865364e-03\n",
      "[ Info: max_dmdt is less than stopping_dmdt=0.01, Done!\n"
     ]
    }
   ],
   "cell_type": "code",
   "source": [
    "relax(sim, maxsteps=20000, stopping_dmdt=0.01)"
   ],
   "metadata": {},
   "execution_count": 5
  },
  {
   "cell_type": "markdown",
   "source": [
    "We save the magnetization to vtk, which can be opened using Paraview for 3D visualization."
   ],
   "metadata": {}
  },
  {
   "outputs": [
    {
     "output_type": "execute_result",
     "data": {
      "text/plain": "1-element Vector{String}:\n \"skx.vts\""
     },
     "metadata": {},
     "execution_count": 6
    }
   ],
   "cell_type": "code",
   "source": [
    "MicroMagnetic.save_vtk(sim, \"skx\")"
   ],
   "metadata": {},
   "execution_count": 6
  },
  {
   "cell_type": "markdown",
   "source": [
    "After obataining the skyrmion profile, we then move the skyrmion using spin transfer torques.\n",
    "So we use change the driver to \"LLG_STT\" using the `set_driver` function. Meanwhile,\n",
    "we set the relevant parameters such as alpha, beta and u."
   ],
   "metadata": {}
  },
  {
   "outputs": [
    {
     "name": "stdout",
     "output_type": "stream",
     "text": [
      "[ Info: The driver LLG_STT is used!\n"
     ]
    }
   ],
   "cell_type": "code",
   "source": [
    "set_driver(sim, driver=\"LLG_STT\", alpha=0.05, beta=0.2, ux=-20)"
   ],
   "metadata": {},
   "execution_count": 7
  },
  {
   "cell_type": "markdown",
   "source": [
    "During the simulation, we need to extract the skyrmion center, so we write a call back function\n",
    "in which the skyrmion positions are computed using the `compute_guiding_center` function and\n",
    "saved to a text file with append mode."
   ],
   "metadata": {}
  },
  {
   "outputs": [
    {
     "output_type": "execute_result",
     "data": {
      "text/plain": "call_back_fun (generic function with 1 method)"
     },
     "metadata": {},
     "execution_count": 8
    }
   ],
   "cell_type": "code",
   "source": [
    "function call_back_fun(sim, t)\n",
    "    Rx, Ry = compute_guiding_center(sim)\n",
    "    open(\"XY.txt\", \"a\") do f\n",
    "        write(f, @sprintf(\"%g  %g  %g\\n\", t, Rx, Ry))\n",
    "    end\n",
    "end"
   ],
   "metadata": {},
   "execution_count": 8
  },
  {
   "cell_type": "markdown",
   "source": [
    "We use the `run_sim` function to run the simulation.\n",
    "after that, a jld2 file will be created and we can export it to a movie (.mp4) using the `jld2movie`."
   ],
   "metadata": {}
  },
  {
   "outputs": [],
   "cell_type": "code",
   "source": [
    "if !isfile(\"assets/skx.mp4\")\n",
    "    run_sim(sim, steps=100, dt=1e-10, save_m_every = 1, call_back=call_back_fun)\n",
    "    jld2movie(\"skx.jld2\", output=\"assets/skx.mp4\")\n",
    "end"
   ],
   "metadata": {},
   "execution_count": 9
  },
  {
   "cell_type": "markdown",
   "source": [
    "![](./assets/skx.mp4)"
   ],
   "metadata": {}
  },
  {
   "cell_type": "markdown",
   "source": [
    "---\n",
    "\n",
    "*This notebook was generated using [Literate.jl](https://github.com/fredrikekre/Literate.jl).*"
   ],
   "metadata": {}
  }
 ],
 "nbformat_minor": 3,
 "metadata": {
  "language_info": {
   "file_extension": ".jl",
   "mimetype": "application/julia",
   "name": "julia",
   "version": "1.10.4"
  },
  "kernelspec": {
   "name": "julia-1.10",
   "display_name": "Julia 1.10.4",
   "language": "julia"
  }
 },
 "nbformat": 4
}
